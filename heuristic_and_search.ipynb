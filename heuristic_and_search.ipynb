{
 "cells": [
  {
   "cell_type": "code",
   "execution_count": 15,
   "metadata": {},
   "outputs": [],
   "source": [
    "import pickle\n",
    "from heapq import heappop, heappush\n",
    "from sliding_puzzle import SlidingBoard, Pattern, load_pdb, random_board\n",
    "import copy"
   ]
  },
  {
   "cell_type": "code",
   "execution_count": 106,
   "metadata": {},
   "outputs": [],
   "source": [
    "with open(\"./random_puzzle_1000.pkl\", 'rb') as file_handle:\n",
    "    data = pickle.load(file_handle)\n"
   ]
  },
  {
   "cell_type": "code",
   "execution_count": 87,
   "metadata": {},
   "outputs": [],
   "source": [
    "def manhattan_dist(state: Pattern, goal = None):\n",
    "    if goal is None:\n",
    "        goal = SlidingBoard(L=state.L)\n",
    "    cnt = 0\n",
    "    for p in state.pos:\n",
    "        # print( f\"{p}: {state.pos[p]},  {goal.pos[p]}, {abs(state.pos[p][0] - goal.pos[p][0]) + abs(state.pos[p][1] - goal.pos[p][1])}\")\n",
    "        cnt += sum(map(abs, [i[0] - i[1] for i in zip(state.pos[p], goal.pos[p])]))\n",
    "    return cnt"
   ]
  },
  {
   "cell_type": "code",
   "execution_count": 88,
   "metadata": {},
   "outputs": [
    {
     "data": {
      "text/plain": [
       "20.02"
      ]
     },
     "execution_count": 88,
     "metadata": {},
     "output_type": "execute_result"
    }
   ],
   "source": [
    "sum([manhattan_dist(i) for i in data]) / len(data)"
   ]
  },
  {
   "cell_type": "code",
   "execution_count": 89,
   "metadata": {},
   "outputs": [
    {
     "data": {
      "text/plain": [
       "[4, 6, 0, 8]\n",
       "[12, 7, 2, 1]\n",
       "[9, 14, 10, 3]\n",
       "[5, 13, 15, 11]"
      ]
     },
     "execution_count": 89,
     "metadata": {},
     "output_type": "execute_result"
    }
   ],
   "source": [
    "data[0]"
   ]
  },
  {
   "cell_type": "code",
   "execution_count": 90,
   "metadata": {},
   "outputs": [
    {
     "data": {
      "text/plain": [
       "26"
      ]
     },
     "execution_count": 90,
     "metadata": {},
     "output_type": "execute_result"
    }
   ],
   "source": [
    "manhattan_dist(data[0])"
   ]
  },
  {
   "cell_type": "code",
   "execution_count": 91,
   "metadata": {},
   "outputs": [
    {
     "name": "stdout",
     "output_type": "stream",
     "text": [
      "<sliding_puzzle.PDB object at 0x11e63f1d0>\n",
      "<sliding_puzzle.PDB object at 0x11e63fac8>\n",
      "<sliding_puzzle.PDB object at 0x11e63f978>\n"
     ]
    }
   ],
   "source": [
    "h1 = load_pdb(\"./15_puzzle_12_13_14_addidtive_pdb.pkl\")\n",
    "h2 = load_pdb(\"./15_puzzle_1_2_4_5_8_9_addidtive_pdb.pkl\")\n",
    "h3 = load_pdb(\"./15_puzzle_3_6_7_10_11_15_addidtive_pdb.pkl\")"
   ]
  },
  {
   "cell_type": "code",
   "execution_count": 92,
   "metadata": {},
   "outputs": [],
   "source": [
    "def additive_heuristic(state: Pattern):\n",
    "    sym = sym_board(state)\n",
    "    return max(h1[state] + h2[state] + h3[state], h1[sym] + h2[sym] + h3[sym])"
   ]
  },
  {
   "cell_type": "code",
   "execution_count": 93,
   "metadata": {},
   "outputs": [
    {
     "data": {
      "text/plain": [
       "1"
      ]
     },
     "execution_count": 93,
     "metadata": {},
     "output_type": "execute_result"
    }
   ],
   "source": [
    "symetry(4)"
   ]
  },
  {
   "cell_type": "code",
   "execution_count": 94,
   "metadata": {},
   "outputs": [],
   "source": [
    "def symetry(idx, L=4):\n",
    "    return (idx % L) * L +  int(idx / L)"
   ]
  },
  {
   "cell_type": "code",
   "execution_count": 95,
   "metadata": {},
   "outputs": [],
   "source": [
    "def sym_board(state):\n",
    "    pos = {}\n",
    "    for k in state.pos:\n",
    "        pos[symetry(k)] = (state.pos[k][1], state.pos[k][0])\n",
    "    return SlidingBoard(pos=pos)\n",
    "    "
   ]
  },
  {
   "cell_type": "code",
   "execution_count": 96,
   "metadata": {},
   "outputs": [
    {
     "data": {
      "text/plain": [
       "[1, 3, 6, 5]\n",
       "[9, 13, 11, 7]\n",
       "[0, 8, 10, 15]\n",
       "[2, 4, 12, 14]"
      ]
     },
     "execution_count": 96,
     "metadata": {},
     "output_type": "execute_result"
    }
   ],
   "source": [
    "sym_board(data[0])"
   ]
  },
  {
   "cell_type": "code",
   "execution_count": 97,
   "metadata": {},
   "outputs": [
    {
     "data": {
      "text/plain": [
       "22.26"
      ]
     },
     "execution_count": 97,
     "metadata": {},
     "output_type": "execute_result"
    }
   ],
   "source": [
    "sum([additive_heuristic(i) for i in data]) / len(data)"
   ]
  },
  {
   "cell_type": "code",
   "execution_count": 98,
   "metadata": {},
   "outputs": [
    {
     "data": {
      "text/plain": [
       "24"
      ]
     },
     "execution_count": 98,
     "metadata": {},
     "output_type": "execute_result"
    }
   ],
   "source": [
    "additive_heuristic(data[25])"
   ]
  },
  {
   "cell_type": "code",
   "execution_count": 99,
   "metadata": {},
   "outputs": [],
   "source": [
    "def search(start, goal, heuristic):\n",
    "    closed_set = set()\n",
    "    gscore = {start:0}\n",
    "    came_from = {}\n",
    "    oheap = []\n",
    "\n",
    "    heappush(oheap, (gscore[start] + heuristic(start), start))\n",
    "\n",
    "    while(oheap):\n",
    "        current = heappop(oheap)[1]\n",
    "        if current in closed_set:\n",
    "            continue\n",
    "        if current == goal:\n",
    "            path = []\n",
    "            # print(f\"path_length: {gscore[current]}\")\n",
    "            while current in came_from:\n",
    "                path.append(current)\n",
    "                current = came_from[current]\n",
    "            \n",
    "            path.append(start)\n",
    "            path.reverse()\n",
    "            \n",
    "            return path\n",
    "\n",
    "        closed_set.add(current)\n",
    "\n",
    "        for neighbor in current.get_children():\n",
    "            # allow reopen\n",
    "            if neighbor in closed_set:\n",
    "                continue\n",
    "\n",
    "            if neighbor not in gscore or gscore[current] + 1 < gscore[neighbor]:\n",
    "                gscore[neighbor] = gscore[current] + 1\n",
    "                came_from[neighbor] = current\n",
    "                heappush(oheap, (gscore[neighbor] + heuristic(neighbor) , neighbor))\n",
    "\n"
   ]
  },
  {
   "cell_type": "code",
   "execution_count": 100,
   "metadata": {},
   "outputs": [
    {
     "data": {
      "text/plain": [
       "[4, 6, 0, 8]\n",
       "[12, 7, 2, 1]\n",
       "[9, 14, 10, 3]\n",
       "[5, 13, 15, 11]"
      ]
     },
     "execution_count": 100,
     "metadata": {},
     "output_type": "execute_result"
    }
   ],
   "source": [
    "data[0]"
   ]
  },
  {
   "cell_type": "code",
   "execution_count": 101,
   "metadata": {},
   "outputs": [
    {
     "data": {
      "text/plain": [
       "2"
      ]
     },
     "execution_count": 101,
     "metadata": {},
     "output_type": "execute_result"
    }
   ],
   "source": [
    "manhattan_dist(SlidingBoard().get_children()[0].get_children()[0], SlidingBoard())"
   ]
  },
  {
   "cell_type": "code",
   "execution_count": 104,
   "metadata": {},
   "outputs": [
    {
     "data": {
      "text/plain": [
       "[[4, 6, 0, 8]\n",
       " [12, 7, 2, 1]\n",
       " [9, 14, 10, 3]\n",
       " [5, 13, 15, 11], [4, 6, 8, 0]\n",
       " [12, 7, 2, 1]\n",
       " [9, 14, 10, 3]\n",
       " [5, 13, 15, 11], [4, 6, 8, 1]\n",
       " [12, 7, 2, 0]\n",
       " [9, 14, 10, 3]\n",
       " [5, 13, 15, 11], [4, 6, 8, 1]\n",
       " [12, 7, 0, 2]\n",
       " [9, 14, 10, 3]\n",
       " [5, 13, 15, 11], [4, 6, 0, 1]\n",
       " [12, 7, 8, 2]\n",
       " [9, 14, 10, 3]\n",
       " [5, 13, 15, 11], [4, 6, 1, 0]\n",
       " [12, 7, 8, 2]\n",
       " [9, 14, 10, 3]\n",
       " [5, 13, 15, 11], [4, 6, 1, 2]\n",
       " [12, 7, 8, 0]\n",
       " [9, 14, 10, 3]\n",
       " [5, 13, 15, 11], [4, 6, 1, 2]\n",
       " [12, 7, 8, 3]\n",
       " [9, 14, 10, 0]\n",
       " [5, 13, 15, 11], [4, 6, 1, 2]\n",
       " [12, 7, 8, 3]\n",
       " [9, 14, 10, 11]\n",
       " [5, 13, 15, 0], [4, 6, 1, 2]\n",
       " [12, 7, 8, 3]\n",
       " [9, 14, 10, 11]\n",
       " [5, 13, 0, 15], [4, 6, 1, 2]\n",
       " [12, 7, 8, 3]\n",
       " [9, 14, 0, 11]\n",
       " [5, 13, 10, 15], [4, 6, 1, 2]\n",
       " [12, 7, 0, 3]\n",
       " [9, 14, 8, 11]\n",
       " [5, 13, 10, 15], [4, 6, 1, 2]\n",
       " [12, 0, 7, 3]\n",
       " [9, 14, 8, 11]\n",
       " [5, 13, 10, 15], [4, 0, 1, 2]\n",
       " [12, 6, 7, 3]\n",
       " [9, 14, 8, 11]\n",
       " [5, 13, 10, 15], [4, 1, 0, 2]\n",
       " [12, 6, 7, 3]\n",
       " [9, 14, 8, 11]\n",
       " [5, 13, 10, 15], [4, 1, 2, 0]\n",
       " [12, 6, 7, 3]\n",
       " [9, 14, 8, 11]\n",
       " [5, 13, 10, 15], [4, 1, 2, 3]\n",
       " [12, 6, 7, 0]\n",
       " [9, 14, 8, 11]\n",
       " [5, 13, 10, 15], [4, 1, 2, 3]\n",
       " [12, 6, 0, 7]\n",
       " [9, 14, 8, 11]\n",
       " [5, 13, 10, 15], [4, 1, 2, 3]\n",
       " [12, 0, 6, 7]\n",
       " [9, 14, 8, 11]\n",
       " [5, 13, 10, 15], [4, 1, 2, 3]\n",
       " [0, 12, 6, 7]\n",
       " [9, 14, 8, 11]\n",
       " [5, 13, 10, 15], [4, 1, 2, 3]\n",
       " [9, 12, 6, 7]\n",
       " [0, 14, 8, 11]\n",
       " [5, 13, 10, 15], [4, 1, 2, 3]\n",
       " [9, 12, 6, 7]\n",
       " [5, 14, 8, 11]\n",
       " [0, 13, 10, 15], [4, 1, 2, 3]\n",
       " [9, 12, 6, 7]\n",
       " [5, 14, 8, 11]\n",
       " [13, 0, 10, 15], [4, 1, 2, 3]\n",
       " [9, 12, 6, 7]\n",
       " [5, 0, 8, 11]\n",
       " [13, 14, 10, 15], [4, 1, 2, 3]\n",
       " [9, 0, 6, 7]\n",
       " [5, 12, 8, 11]\n",
       " [13, 14, 10, 15], [4, 1, 2, 3]\n",
       " [0, 9, 6, 7]\n",
       " [5, 12, 8, 11]\n",
       " [13, 14, 10, 15], [4, 1, 2, 3]\n",
       " [5, 9, 6, 7]\n",
       " [0, 12, 8, 11]\n",
       " [13, 14, 10, 15], [4, 1, 2, 3]\n",
       " [5, 9, 6, 7]\n",
       " [12, 0, 8, 11]\n",
       " [13, 14, 10, 15], [4, 1, 2, 3]\n",
       " [5, 9, 6, 7]\n",
       " [12, 8, 0, 11]\n",
       " [13, 14, 10, 15], [4, 1, 2, 3]\n",
       " [5, 9, 6, 7]\n",
       " [12, 8, 10, 11]\n",
       " [13, 14, 0, 15], [4, 1, 2, 3]\n",
       " [5, 9, 6, 7]\n",
       " [12, 8, 10, 11]\n",
       " [13, 0, 14, 15], [4, 1, 2, 3]\n",
       " [5, 9, 6, 7]\n",
       " [12, 8, 10, 11]\n",
       " [0, 13, 14, 15], [4, 1, 2, 3]\n",
       " [5, 9, 6, 7]\n",
       " [0, 8, 10, 11]\n",
       " [12, 13, 14, 15], [4, 1, 2, 3]\n",
       " [5, 9, 6, 7]\n",
       " [8, 0, 10, 11]\n",
       " [12, 13, 14, 15], [4, 1, 2, 3]\n",
       " [5, 0, 6, 7]\n",
       " [8, 9, 10, 11]\n",
       " [12, 13, 14, 15], [4, 1, 2, 3]\n",
       " [0, 5, 6, 7]\n",
       " [8, 9, 10, 11]\n",
       " [12, 13, 14, 15], [0, 1, 2, 3]\n",
       " [4, 5, 6, 7]\n",
       " [8, 9, 10, 11]\n",
       " [12, 13, 14, 15]]"
      ]
     },
     "execution_count": 104,
     "metadata": {},
     "output_type": "execute_result"
    }
   ],
   "source": [
    "search(data[0], SlidingBoard(), heuristic=manhattan_dist)"
   ]
  },
  {
   "cell_type": "code",
   "execution_count": 107,
   "metadata": {},
   "outputs": [
    {
     "ename": "KeyboardInterrupt",
     "evalue": "",
     "output_type": "error",
     "traceback": [
      "\u001b[0;31m---------------------------------------------------------------------------\u001b[0m",
      "\u001b[0;31mKeyboardInterrupt\u001b[0m                         Traceback (most recent call last)",
      "\u001b[0;32m<ipython-input-107-8502cf512ef9>\u001b[0m in \u001b[0;36m<module>\u001b[0;34m()\u001b[0m\n\u001b[0;32m----> 1\u001b[0;31m \u001b[0msearch\u001b[0m\u001b[0;34m(\u001b[0m\u001b[0mdata\u001b[0m\u001b[0;34m[\u001b[0m\u001b[0;36m0\u001b[0m\u001b[0;34m]\u001b[0m\u001b[0;34m,\u001b[0m \u001b[0mSlidingBoard\u001b[0m\u001b[0;34m(\u001b[0m\u001b[0;34m)\u001b[0m\u001b[0;34m,\u001b[0m \u001b[0mheuristic\u001b[0m\u001b[0;34m=\u001b[0m\u001b[0madditive_heuristic\u001b[0m\u001b[0;34m)\u001b[0m\u001b[0;34m\u001b[0m\u001b[0m\n\u001b[0m",
      "\u001b[0;32m<ipython-input-99-7f02b665a3cd>\u001b[0m in \u001b[0;36msearch\u001b[0;34m(start, goal, heuristic)\u001b[0m\n\u001b[1;32m     25\u001b[0m         \u001b[0mclosed_set\u001b[0m\u001b[0;34m.\u001b[0m\u001b[0madd\u001b[0m\u001b[0;34m(\u001b[0m\u001b[0mcurrent\u001b[0m\u001b[0;34m)\u001b[0m\u001b[0;34m\u001b[0m\u001b[0m\n\u001b[1;32m     26\u001b[0m \u001b[0;34m\u001b[0m\u001b[0m\n\u001b[0;32m---> 27\u001b[0;31m         \u001b[0;32mfor\u001b[0m \u001b[0mneighbor\u001b[0m \u001b[0;32min\u001b[0m \u001b[0mcurrent\u001b[0m\u001b[0;34m.\u001b[0m\u001b[0mget_children\u001b[0m\u001b[0;34m(\u001b[0m\u001b[0;34m)\u001b[0m\u001b[0;34m:\u001b[0m\u001b[0;34m\u001b[0m\u001b[0m\n\u001b[0m\u001b[1;32m     28\u001b[0m             \u001b[0;31m# allow reopen\u001b[0m\u001b[0;34m\u001b[0m\u001b[0;34m\u001b[0m\u001b[0m\n\u001b[1;32m     29\u001b[0m             \u001b[0;32mif\u001b[0m \u001b[0mneighbor\u001b[0m \u001b[0;32min\u001b[0m \u001b[0mclosed_set\u001b[0m\u001b[0;34m:\u001b[0m\u001b[0;34m\u001b[0m\u001b[0m\n",
      "\u001b[0;32m~/Documents/ML/PDB/sliding_puzzle.py\u001b[0m in \u001b[0;36mget_children\u001b[0;34m(self)\u001b[0m\n\u001b[1;32m     80\u001b[0m                  (i + incr[0], j + incr[1]) in filled]\n\u001b[1;32m     81\u001b[0m         \u001b[0;32mfor\u001b[0m \u001b[0mmove\u001b[0m \u001b[0;32min\u001b[0m \u001b[0mmoves\u001b[0m\u001b[0;34m:\u001b[0m\u001b[0;34m\u001b[0m\u001b[0m\n\u001b[0;32m---> 82\u001b[0;31m             \u001b[0mnew_pos\u001b[0m \u001b[0;34m=\u001b[0m \u001b[0mcopy\u001b[0m\u001b[0;34m.\u001b[0m\u001b[0mdeepcopy\u001b[0m\u001b[0;34m(\u001b[0m\u001b[0mself\u001b[0m\u001b[0;34m.\u001b[0m\u001b[0mpos\u001b[0m\u001b[0;34m)\u001b[0m\u001b[0;34m\u001b[0m\u001b[0m\n\u001b[0m\u001b[1;32m     83\u001b[0m             \u001b[0mblank\u001b[0m \u001b[0;34m=\u001b[0m \u001b[0mself\u001b[0m\u001b[0;34m.\u001b[0m\u001b[0mblank\u001b[0m\u001b[0;34m\u001b[0m\u001b[0m\n\u001b[1;32m     84\u001b[0m             \u001b[0mk\u001b[0m \u001b[0;34m=\u001b[0m \u001b[0mfilled\u001b[0m\u001b[0;34m[\u001b[0m\u001b[0mmove\u001b[0m\u001b[0;34m]\u001b[0m\u001b[0;34m\u001b[0m\u001b[0m\n",
      "\u001b[0;32m~/anaconda3/lib/python3.6/copy.py\u001b[0m in \u001b[0;36mdeepcopy\u001b[0;34m(x, memo, _nil)\u001b[0m\n\u001b[1;32m    148\u001b[0m     \u001b[0mcopier\u001b[0m \u001b[0;34m=\u001b[0m \u001b[0m_deepcopy_dispatch\u001b[0m\u001b[0;34m.\u001b[0m\u001b[0mget\u001b[0m\u001b[0;34m(\u001b[0m\u001b[0mcls\u001b[0m\u001b[0;34m)\u001b[0m\u001b[0;34m\u001b[0m\u001b[0m\n\u001b[1;32m    149\u001b[0m     \u001b[0;32mif\u001b[0m \u001b[0mcopier\u001b[0m\u001b[0;34m:\u001b[0m\u001b[0;34m\u001b[0m\u001b[0m\n\u001b[0;32m--> 150\u001b[0;31m         \u001b[0my\u001b[0m \u001b[0;34m=\u001b[0m \u001b[0mcopier\u001b[0m\u001b[0;34m(\u001b[0m\u001b[0mx\u001b[0m\u001b[0;34m,\u001b[0m \u001b[0mmemo\u001b[0m\u001b[0;34m)\u001b[0m\u001b[0;34m\u001b[0m\u001b[0m\n\u001b[0m\u001b[1;32m    151\u001b[0m     \u001b[0;32melse\u001b[0m\u001b[0;34m:\u001b[0m\u001b[0;34m\u001b[0m\u001b[0m\n\u001b[1;32m    152\u001b[0m         \u001b[0;32mtry\u001b[0m\u001b[0;34m:\u001b[0m\u001b[0;34m\u001b[0m\u001b[0m\n",
      "\u001b[0;32m~/anaconda3/lib/python3.6/copy.py\u001b[0m in \u001b[0;36m_deepcopy_dict\u001b[0;34m(x, memo, deepcopy)\u001b[0m\n\u001b[1;32m    238\u001b[0m     \u001b[0mmemo\u001b[0m\u001b[0;34m[\u001b[0m\u001b[0mid\u001b[0m\u001b[0;34m(\u001b[0m\u001b[0mx\u001b[0m\u001b[0;34m)\u001b[0m\u001b[0;34m]\u001b[0m \u001b[0;34m=\u001b[0m \u001b[0my\u001b[0m\u001b[0;34m\u001b[0m\u001b[0m\n\u001b[1;32m    239\u001b[0m     \u001b[0;32mfor\u001b[0m \u001b[0mkey\u001b[0m\u001b[0;34m,\u001b[0m \u001b[0mvalue\u001b[0m \u001b[0;32min\u001b[0m \u001b[0mx\u001b[0m\u001b[0;34m.\u001b[0m\u001b[0mitems\u001b[0m\u001b[0;34m(\u001b[0m\u001b[0;34m)\u001b[0m\u001b[0;34m:\u001b[0m\u001b[0;34m\u001b[0m\u001b[0m\n\u001b[0;32m--> 240\u001b[0;31m         \u001b[0my\u001b[0m\u001b[0;34m[\u001b[0m\u001b[0mdeepcopy\u001b[0m\u001b[0;34m(\u001b[0m\u001b[0mkey\u001b[0m\u001b[0;34m,\u001b[0m \u001b[0mmemo\u001b[0m\u001b[0;34m)\u001b[0m\u001b[0;34m]\u001b[0m \u001b[0;34m=\u001b[0m \u001b[0mdeepcopy\u001b[0m\u001b[0;34m(\u001b[0m\u001b[0mvalue\u001b[0m\u001b[0;34m,\u001b[0m \u001b[0mmemo\u001b[0m\u001b[0;34m)\u001b[0m\u001b[0;34m\u001b[0m\u001b[0m\n\u001b[0m\u001b[1;32m    241\u001b[0m     \u001b[0;32mreturn\u001b[0m \u001b[0my\u001b[0m\u001b[0;34m\u001b[0m\u001b[0m\n\u001b[1;32m    242\u001b[0m \u001b[0md\u001b[0m\u001b[0;34m[\u001b[0m\u001b[0mdict\u001b[0m\u001b[0;34m]\u001b[0m \u001b[0;34m=\u001b[0m \u001b[0m_deepcopy_dict\u001b[0m\u001b[0;34m\u001b[0m\u001b[0m\n",
      "\u001b[0;32m~/anaconda3/lib/python3.6/copy.py\u001b[0m in \u001b[0;36mdeepcopy\u001b[0;34m(x, memo, _nil)\u001b[0m\n\u001b[1;32m    144\u001b[0m         \u001b[0;32mreturn\u001b[0m \u001b[0my\u001b[0m\u001b[0;34m\u001b[0m\u001b[0m\n\u001b[1;32m    145\u001b[0m \u001b[0;34m\u001b[0m\u001b[0m\n\u001b[0;32m--> 146\u001b[0;31m     \u001b[0mcls\u001b[0m \u001b[0;34m=\u001b[0m \u001b[0mtype\u001b[0m\u001b[0;34m(\u001b[0m\u001b[0mx\u001b[0m\u001b[0;34m)\u001b[0m\u001b[0;34m\u001b[0m\u001b[0m\n\u001b[0m\u001b[1;32m    147\u001b[0m \u001b[0;34m\u001b[0m\u001b[0m\n\u001b[1;32m    148\u001b[0m     \u001b[0mcopier\u001b[0m \u001b[0;34m=\u001b[0m \u001b[0m_deepcopy_dispatch\u001b[0m\u001b[0;34m.\u001b[0m\u001b[0mget\u001b[0m\u001b[0;34m(\u001b[0m\u001b[0mcls\u001b[0m\u001b[0;34m)\u001b[0m\u001b[0;34m\u001b[0m\u001b[0m\n",
      "\u001b[0;31mKeyboardInterrupt\u001b[0m: "
     ]
    }
   ],
   "source": [
    "search(data[0], SlidingBoard(), heuristic=additive_heuristic)"
   ]
  },
  {
   "cell_type": "code",
   "execution_count": null,
   "metadata": {},
   "outputs": [],
   "source": []
  }
 ],
 "metadata": {
  "kernelspec": {
   "display_name": "Python [conda env:anaconda3]",
   "language": "python",
   "name": "conda-env-anaconda3-py"
  },
  "language_info": {
   "codemirror_mode": {
    "name": "ipython",
    "version": 3
   },
   "file_extension": ".py",
   "mimetype": "text/x-python",
   "name": "python",
   "nbconvert_exporter": "python",
   "pygments_lexer": "ipython3",
   "version": "3.6.4"
  }
 },
 "nbformat": 4,
 "nbformat_minor": 2
}
