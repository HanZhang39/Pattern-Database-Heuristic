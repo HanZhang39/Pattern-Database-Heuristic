{
 "cells": [
  {
   "cell_type": "markdown",
   "metadata": {
    "ein.tags": "worksheet-0",
    "slideshow": {
     "slide_type": "-"
    }
   },
   "source": [
    "# Slidng Puzzle"
   ]
  },
  {
   "cell_type": "code",
   "execution_count": 2,
   "metadata": {
    "autoscroll": false,
    "ein.hycell": false,
    "ein.tags": "worksheet-0",
    "slideshow": {
     "slide_type": "-"
    }
   },
   "outputs": [],
   "source": [
    "%load_ext autoreload  \n",
    "%autoreload 2         \n"
   ]
  },
  {
   "cell_type": "code",
   "execution_count": 3,
   "metadata": {
    "autoscroll": false,
    "ein.hycell": false,
    "ein.tags": "worksheet-0",
    "slideshow": {
     "slide_type": "-"
    }
   },
   "outputs": [],
   "source": [
    "import pickle\n",
    "from sliding_puzzle import SlidingPuzzlePattern, SlidingPuzzlePDB, random_sliding_puzzle, symmetry_board, additive_heuristic_symmetric_lookup, manhattan_dist\n",
    "from pattern_database import load_pdb\n",
    "from search import ida_star_search\n",
    "import numpy as np"
   ]
  },
  {
   "cell_type": "markdown",
   "metadata": {},
   "source": [
    "Using SlidingPuzzlePattern to generate a sliding puzzle instane. It has get_children method to generate its children"
   ]
  },
  {
   "cell_type": "code",
   "execution_count": 32,
   "metadata": {},
   "outputs": [
    {
     "data": {
      "text/plain": [
       "\n",
       "    1   2   3\n",
       "4   5   6   7\n",
       "8   9   10  11\n",
       "12  13  14  15"
      ]
     },
     "execution_count": 32,
     "metadata": {},
     "output_type": "execute_result"
    }
   ],
   "source": [
    "SlidingPuzzlePattern()"
   ]
  },
  {
   "cell_type": "code",
   "execution_count": 38,
   "metadata": {},
   "outputs": [
    {
     "name": "stdout",
     "output_type": "stream",
     "text": [
      "\n",
      "1       2   3\n",
      "4   5   6   7\n",
      "8   9   10  11\n",
      "12  13  14  15\n",
      "\n",
      "\n",
      "4   1   2   3\n",
      "    5   6   7\n",
      "8   9   10  11\n",
      "12  13  14  15\n",
      "\n"
     ]
    },
    {
     "data": {
      "text/plain": [
       "[None, None]"
      ]
     },
     "execution_count": 38,
     "metadata": {},
     "output_type": "execute_result"
    }
   ],
   "source": [
    "[print(i[1]) for i in SlidingPuzzlePattern().get_children()]"
   ]
  },
  {
   "cell_type": "markdown",
   "metadata": {},
   "source": [
    "## PDB"
   ]
  },
  {
   "cell_type": "markdown",
   "metadata": {
    "ein.tags": "worksheet-0",
    "slideshow": {
     "slide_type": "-"
    }
   },
   "source": [
    "Creating a small PDB, which only have 1, 2, 3\n"
   ]
  },
  {
   "cell_type": "code",
   "execution_count": null,
   "metadata": {
    "autoscroll": false,
    "ein.hycell": false,
    "ein.tags": "worksheet-0",
    "slideshow": {
     "slide_type": "-"
    }
   },
   "outputs": [],
   "source": [
    "pdb = SlidingPuzzlePDB()\n",
    "pdb.expand()"
   ]
  },
  {
   "cell_type": "code",
   "execution_count": 5,
   "metadata": {
    "autoscroll": false,
    "ein.hycell": false,
    "ein.tags": "worksheet-0",
    "slideshow": {
     "slide_type": "-"
    }
   },
   "outputs": [
    {
     "name": "stdout",
     "output_type": "stream",
     "text": [
      "\n",
      "    13  3   14\n",
      "6   10  4   12\n",
      "7   8   1   2\n",
      "9   15  5   11\n",
      "\n",
      "7\n"
     ]
    }
   ],
   "source": [
    "r = random_sliding_puzzle(run_round=1000)\n",
    "print(r)\n",
    "print(pdb[r])"
   ]
  },
  {
   "cell_type": "markdown",
   "metadata": {
    "ein.tags": "worksheet-0",
    "slideshow": {
     "slide_type": "-"
    }
   },
   "source": [
    "To create a highly efficient PDB, run gen_pdb_1_7.py, it will generate bunches of pkl file, containing PDB\n",
    "\n",
    "WAARNING:this script take hours to run"
   ]
  },
  {
   "cell_type": "markdown",
   "metadata": {
    "ein.tags": "worksheet-0",
    "slideshow": {
     "slide_type": "-"
    }
   },
   "source": [
    "## Using heuristic\n",
    "\n",
    "Multiple Additive Pattern Database could be loaded from disk and combined into a strong heuristic."
   ]
  },
  {
   "cell_type": "code",
   "execution_count": 14,
   "metadata": {
    "autoscroll": false,
    "ein.hycell": false,
    "ein.tags": "worksheet-0",
    "slideshow": {
     "slide_type": "-"
    }
   },
   "outputs": [
    {
     "name": "stdout",
     "output_type": "stream",
     "text": [
      "<sliding_puzzle.SlidingPuzzlePDB object at 0x1061d9550>\n",
      "<sliding_puzzle.SlidingPuzzlePDB object at 0x1061d9470>\n",
      "<sliding_puzzle.SlidingPuzzlePDB object at 0x1061d9860>\n"
     ]
    }
   ],
   "source": [
    "h = [load_pdb(\"15_puzzle_12_13_14_addidtive_pdb.pkl\"),\n",
    "     load_pdb(\"15_puzzle_1_2_4_5_8_9_addidtive_pdb.pkl\"),\n",
    "     load_pdb(\"15_puzzle_3_6_7_10_11_15_addidtive_pdb.pkl\")]\n",
    "f = additive_heuristic_symmetric_lookup(h)\n"
   ]
  },
  {
   "cell_type": "code",
   "execution_count": 5,
   "metadata": {
    "autoscroll": false,
    "ein.hycell": false,
    "ein.tags": "worksheet-0",
    "slideshow": {
     "slide_type": "-"
    }
   },
   "outputs": [],
   "source": [
    "puzzles = [random_sliding_puzzle(run_round=1000) for i in range(100)]"
   ]
  },
  {
   "cell_type": "markdown",
   "metadata": {},
   "source": [
    "Tesing average heurist on random case."
   ]
  },
  {
   "cell_type": "code",
   "execution_count": 28,
   "metadata": {
    "autoscroll": false,
    "ein.hycell": false,
    "ein.tags": "worksheet-0",
    "slideshow": {
     "slide_type": "-"
    }
   },
   "outputs": [
    {
     "name": "stdout",
     "output_type": "stream",
     "text": [
      "Average h with manhattan dist: 37.34\n",
      "Average h with additive PDB: 43.26\n"
     ]
    }
   ],
   "source": [
    "print(f\"Average h with manhattan dist: {np.average([manhattan_dist(p) for p in puzzles])}\")\n",
    "print(f\"Average h with additive PDB: {np.average([f(p) for p in puzzles])}\")"
   ]
  },
  {
   "cell_type": "markdown",
   "metadata": {
    "ein.tags": "worksheet-0",
    "slideshow": {
     "slide_type": "-"
    }
   },
   "source": [
    "## Searching\n",
    "\n",
    "a_star and ida_star is also implemented. Their node expanding number is similar as reported in paper but total run time is much slower. It could still solve hard 25 puzzle case (with 60+ length path) in minutes"
   ]
  },
  {
   "cell_type": "code",
   "execution_count": 30,
   "metadata": {
    "autoscroll": false,
    "ein.hycell": false,
    "ein.tags": "worksheet-0",
    "slideshow": {
     "slide_type": "-"
    }
   },
   "outputs": [
    {
     "name": "stdout",
     "output_type": "stream",
     "text": [
      "current bound: 48\n",
      "current bound: 50\n",
      "current bound: 52\n",
      "current bound: 54\n",
      "current bound: 56\n",
      "current bound: 58\n",
      "current bound: 60\n",
      "totalcnt: 1170831\n"
     ]
    }
   ],
   "source": [
    "l = ida_star_search(random_sliding_puzzle(run_round=1000), SlidingPuzzlePattern(), f)"
   ]
  },
  {
   "cell_type": "code",
   "execution_count": 31,
   "metadata": {},
   "outputs": [
    {
     "name": "stdout",
     "output_type": "stream",
     "text": [
      "61\n"
     ]
    }
   ],
   "source": [
    "print(len(l))"
   ]
  }
 ],
 "metadata": {
  "kernelspec": {
   "display_name": "Python 3",
   "language": "python",
   "name": "python3"
  },
  "language_info": {
   "codemirror_mode": {
    "name": "ipython",
    "version": 3
   },
   "file_extension": ".py",
   "mimetype": "text/x-python",
   "name": "python",
   "nbconvert_exporter": "python",
   "pygments_lexer": "ipython3",
   "version": "3.6.4"
  },
  "name": "heuristic_and_search.ipynb"
 },
 "nbformat": 4,
 "nbformat_minor": 2
}
