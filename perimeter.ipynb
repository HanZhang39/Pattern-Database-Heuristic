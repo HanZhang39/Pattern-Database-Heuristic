{
 "cells": [
  {
   "cell_type": "code",
   "execution_count": 1,
   "metadata": {},
   "outputs": [],
   "source": [
    "%load_ext autoreload\n",
    "%autoreload 2"
   ]
  },
  {
   "cell_type": "code",
   "execution_count": 2,
   "metadata": {},
   "outputs": [
    {
     "name": "stdout",
     "output_type": "stream",
     "text": [
      "<sliding_puzzle.PDB object at 0x1059b00f0>\n",
      "<sliding_puzzle.PDB object at 0x1059b00b8>\n",
      "<sliding_puzzle.PDB object at 0x106893a90>\n"
     ]
    }
   ],
   "source": [
    "import pickle\n",
    "from heapq import heappop, heappush\n",
    "from collections import deque\n",
    "from sliding_puzzle import SlidingBoard, Pattern, additive_heuristic_6_6_3, manhattan_dist, random_board\n",
    "from search import ida_star_search, a_star_search\n",
    "import time\n",
    "import copy"
   ]
  },
  {
   "cell_type": "code",
   "execution_count": 19,
   "metadata": {},
   "outputs": [],
   "source": [
    "\n",
    "class perimeter:\n",
    "    \n",
    "    UNFILLED = 0\n",
    "    \n",
    "    def __init__(self, L=4, depth=4):\n",
    "        self.L = L\n",
    "        self.depth = depth\n",
    "        self.name = f\"{L**2 - 1}_puzzle_{depth}_perimeter\"\n",
    "        self.table = {}\n",
    "\n",
    "    def __getitem__(self, x):\n",
    "        if x not in self.table:\n",
    "            return None\n",
    "        else:\n",
    "            return self.table[x]\n",
    "    \n",
    "    def get_path(self, x):\n",
    "        if x not in self.table:\n",
    "            return None\n",
    "        path = []\n",
    "        i = x\n",
    "        while self.table[i][1] is not None:\n",
    "            path.append(self.table[i][1])\n",
    "            i = self.table[i][1]\n",
    "        return path\n",
    "\n",
    "    def save(self, filename=None):\n",
    "        if filename is None:\n",
    "            filename = self.name + \".pkl\"\n",
    "\n",
    "        pickle.dump(self, open(filename, \"wb\"))\n",
    "\n",
    "    def bfs(self):\n",
    "        bfs_q = deque()\n",
    "        start = SlidingBoard(L=self.L)\n",
    "        self.table[start] = (0, None)\n",
    "        bfs_q.append(start)\n",
    "        \n",
    "        while bfs_q:\n",
    "            current = bfs_q.popleft()\n",
    "            for child in current.get_children():\n",
    "                if child not in self.table:\n",
    "                    self.table[child] = (self.table[current][0] + 1, current)\n",
    "                    if (self.table[child][0] < self.depth):\n",
    "                        bfs_q.append(child)\n",
    "\n"
   ]
  },
  {
   "cell_type": "code",
   "execution_count": 36,
   "metadata": {},
   "outputs": [],
   "source": [
    "a = perimeter(depth=16)\n",
    "a.bfs()"
   ]
  },
  {
   "cell_type": "code",
   "execution_count": 37,
   "metadata": {},
   "outputs": [],
   "source": [
    "a.save()"
   ]
  },
  {
   "cell_type": "code",
   "execution_count": 22,
   "metadata": {},
   "outputs": [
    {
     "data": {
      "text/plain": [
       "(2, [1, 0, 2, 3]\n",
       " [4, 5, 6, 7]\n",
       " [8, 9, 10, 11]\n",
       " [12, 13, 14, 15])"
      ]
     },
     "execution_count": 22,
     "metadata": {},
     "output_type": "execute_result"
    }
   ],
   "source": [
    "a[SlidingBoard().get_children()[0].get_children()[0]]"
   ]
  },
  {
   "cell_type": "code",
   "execution_count": 26,
   "metadata": {},
   "outputs": [
    {
     "data": {
      "text/plain": [
       "[0, 5, 2, 3]\n",
       "[1, 4, 6, 7]\n",
       "[8, 9, 10, 11]\n",
       "[12, 13, 14, 15]"
      ]
     },
     "execution_count": 26,
     "metadata": {},
     "output_type": "execute_result"
    }
   ],
   "source": [
    "r = random_board(10)\n",
    "r"
   ]
  },
  {
   "cell_type": "code",
   "execution_count": 27,
   "metadata": {},
   "outputs": [
    {
     "name": "stdout",
     "output_type": "stream",
     "text": [
      "(4, [1, 5, 2, 3]\n",
      "[0, 4, 6, 7]\n",
      "[8, 9, 10, 11]\n",
      "[12, 13, 14, 15]\n",
      ")\n"
     ]
    }
   ],
   "source": [
    "print(a[r])"
   ]
  },
  {
   "cell_type": "code",
   "execution_count": 54,
   "metadata": {},
   "outputs": [],
   "source": [
    "with open(\"./random_puzzle_1000.pkl\", 'rb') as file_handle:\n",
    "    data = pickle.load(file_handle)"
   ]
  },
  {
   "cell_type": "code",
   "execution_count": 45,
   "metadata": {},
   "outputs": [
    {
     "name": "stdout",
     "output_type": "stream",
     "text": [
      "current bound: 30\n",
      "current bound: 32\n",
      "current bound: 34\n",
      "using perimeter \n",
      "1122\n",
      "0.19986891746520996\n"
     ]
    }
   ],
   "source": [
    "start = time.time()\n",
    "p0 = ida_star_search(data[0], SlidingBoard(), heuristic=additive_heuristic_6_6_3, peri=a)\n",
    "end = time.time()\n",
    "print(end - start)"
   ]
  },
  {
   "cell_type": "code",
   "execution_count": 46,
   "metadata": {},
   "outputs": [
    {
     "data": {
      "text/plain": [
       "39"
      ]
     },
     "execution_count": 46,
     "metadata": {},
     "output_type": "execute_result"
    }
   ],
   "source": [
    "len(p0)"
   ]
  },
  {
   "cell_type": "code",
   "execution_count": 53,
   "metadata": {},
   "outputs": [
    {
     "data": {
      "text/plain": [
       "[[4, 6, 0, 8]\n",
       " [12, 7, 2, 1]\n",
       " [9, 14, 10, 3]\n",
       " [5, 13, 15, 11], [4, 6, 8, 0]\n",
       " [12, 7, 2, 1]\n",
       " [9, 14, 10, 3]\n",
       " [5, 13, 15, 11], [4, 6, 8, 1]\n",
       " [12, 7, 2, 0]\n",
       " [9, 14, 10, 3]\n",
       " [5, 13, 15, 11], [4, 6, 8, 1]\n",
       " [12, 7, 0, 2]\n",
       " [9, 14, 10, 3]\n",
       " [5, 13, 15, 11], [4, 6, 8, 1]\n",
       " [12, 0, 7, 2]\n",
       " [9, 14, 10, 3]\n",
       " [5, 13, 15, 11], [4, 6, 8, 1]\n",
       " [12, 14, 7, 2]\n",
       " [9, 0, 10, 3]\n",
       " [5, 13, 15, 11], [4, 6, 8, 1]\n",
       " [12, 14, 7, 2]\n",
       " [9, 10, 0, 3]\n",
       " [5, 13, 15, 11], [4, 6, 8, 1]\n",
       " [12, 14, 0, 2]\n",
       " [9, 10, 7, 3]\n",
       " [5, 13, 15, 11], [4, 6, 8, 1]\n",
       " [12, 0, 14, 2]\n",
       " [9, 10, 7, 3]\n",
       " [5, 13, 15, 11], [4, 0, 8, 1]\n",
       " [12, 6, 14, 2]\n",
       " [9, 10, 7, 3]\n",
       " [5, 13, 15, 11], [4, 8, 0, 1]\n",
       " [12, 6, 14, 2]\n",
       " [9, 10, 7, 3]\n",
       " [5, 13, 15, 11], [4, 8, 1, 0]\n",
       " [12, 6, 14, 2]\n",
       " [9, 10, 7, 3]\n",
       " [5, 13, 15, 11], [4, 8, 1, 2]\n",
       " [12, 6, 14, 0]\n",
       " [9, 10, 7, 3]\n",
       " [5, 13, 15, 11], [4, 8, 1, 2]\n",
       " [12, 6, 14, 3]\n",
       " [9, 10, 7, 0]\n",
       " [5, 13, 15, 11], [4, 8, 1, 2]\n",
       " [12, 6, 14, 3]\n",
       " [9, 10, 0, 7]\n",
       " [5, 13, 15, 11], [4, 8, 1, 2]\n",
       " [12, 6, 0, 3]\n",
       " [9, 10, 14, 7]\n",
       " [5, 13, 15, 11], [4, 8, 1, 2]\n",
       " [12, 0, 6, 3]\n",
       " [9, 10, 14, 7]\n",
       " [5, 13, 15, 11], [4, 0, 1, 2]\n",
       " [12, 8, 6, 3]\n",
       " [9, 10, 14, 7]\n",
       " [5, 13, 15, 11], [4, 1, 0, 2]\n",
       " [12, 8, 6, 3]\n",
       " [9, 10, 14, 7]\n",
       " [5, 13, 15, 11], [4, 1, 2, 0]\n",
       " [12, 8, 6, 3]\n",
       " [9, 10, 14, 7]\n",
       " [5, 13, 15, 11], [4, 1, 2, 3]\n",
       " [12, 8, 6, 0]\n",
       " [9, 10, 14, 7]\n",
       " [5, 13, 15, 11], [4, 1, 2, 3]\n",
       " [12, 8, 6, 7]\n",
       " [9, 10, 14, 0]\n",
       " [5, 13, 15, 11], [4, 1, 2, 3]\n",
       " [12, 8, 6, 7]\n",
       " [9, 10, 14, 11]\n",
       " [5, 13, 15, 0], [4, 1, 2, 3]\n",
       " [12, 8, 6, 7]\n",
       " [9, 10, 14, 11]\n",
       " [5, 13, 0, 15], [4, 1, 2, 3]\n",
       " [12, 8, 6, 7]\n",
       " [9, 10, 0, 11]\n",
       " [5, 13, 14, 15], [4, 1, 2, 3]\n",
       " [12, 8, 6, 7]\n",
       " [9, 0, 10, 11]\n",
       " [5, 13, 14, 15], [4, 1, 2, 3]\n",
       " [12, 8, 6, 7]\n",
       " [0, 9, 10, 11]\n",
       " [5, 13, 14, 15], [4, 1, 2, 3]\n",
       " [12, 8, 6, 7]\n",
       " [5, 9, 10, 11]\n",
       " [0, 13, 14, 15], [4, 1, 2, 3]\n",
       " [12, 8, 6, 7]\n",
       " [5, 9, 10, 11]\n",
       " [13, 0, 14, 15], [4, 1, 2, 3]\n",
       " [12, 8, 6, 7]\n",
       " [5, 0, 10, 11]\n",
       " [13, 9, 14, 15], [4, 1, 2, 3]\n",
       " [12, 8, 6, 7]\n",
       " [0, 5, 10, 11]\n",
       " [13, 9, 14, 15], [4, 1, 2, 3]\n",
       " [0, 8, 6, 7]\n",
       " [12, 5, 10, 11]\n",
       " [13, 9, 14, 15], [4, 1, 2, 3]\n",
       " [8, 0, 6, 7]\n",
       " [12, 5, 10, 11]\n",
       " [13, 9, 14, 15], [4, 1, 2, 3]\n",
       " [8, 5, 6, 7]\n",
       " [12, 0, 10, 11]\n",
       " [13, 9, 14, 15], [4, 1, 2, 3]\n",
       " [8, 5, 6, 7]\n",
       " [12, 9, 10, 11]\n",
       " [13, 0, 14, 15], [4, 1, 2, 3]\n",
       " [8, 5, 6, 7]\n",
       " [12, 9, 10, 11]\n",
       " [0, 13, 14, 15], [4, 1, 2, 3]\n",
       " [8, 5, 6, 7]\n",
       " [0, 9, 10, 11]\n",
       " [12, 13, 14, 15], [4, 1, 2, 3]\n",
       " [0, 5, 6, 7]\n",
       " [8, 9, 10, 11]\n",
       " [12, 13, 14, 15], [0, 1, 2, 3]\n",
       " [4, 5, 6, 7]\n",
       " [8, 9, 10, 11]\n",
       " [12, 13, 14, 15]]"
      ]
     },
     "execution_count": 53,
     "metadata": {},
     "output_type": "execute_result"
    }
   ],
   "source": [
    "p0"
   ]
  },
  {
   "cell_type": "code",
   "execution_count": 55,
   "metadata": {},
   "outputs": [
    {
     "name": "stdout",
     "output_type": "stream",
     "text": [
      "No perimeter used\n",
      "current bound: 36\n",
      "current bound: 38\n",
      "current bound: 40\n",
      "current bound: 42\n",
      "current bound: 44\n",
      "current bound: 46\n",
      "current bound: 48\n",
      "current bound: 50\n",
      "2811664\n",
      "490.8185410499573\n"
     ]
    }
   ],
   "source": [
    "start = time.time()\n",
    "p1 = ida_star_search(data[0], SlidingBoard(), heuristic=additive_heuristic_6_6_3)\n",
    "end = time.time()\n",
    "print(end - start)"
   ]
  },
  {
   "cell_type": "code",
   "execution_count": 56,
   "metadata": {},
   "outputs": [
    {
     "data": {
      "text/plain": [
       "51"
      ]
     },
     "execution_count": 56,
     "metadata": {},
     "output_type": "execute_result"
    }
   ],
   "source": [
    "len(p1)"
   ]
  },
  {
   "cell_type": "code",
   "execution_count": 51,
   "metadata": {},
   "outputs": [
    {
     "name": "stdout",
     "output_type": "stream",
     "text": [
      "[4, 6, 0, 8]\n",
      "[12, 7, 2, 1]\n",
      "[9, 14, 10, 3]\n",
      "[5, 13, 15, 11]\n",
      "\n",
      "6209\n",
      "2.5943410396575928\n"
     ]
    }
   ],
   "source": [
    "start = time.time()\n",
    "p2 = a_star_search(data[0], SlidingBoard(), heuristic=additive_heuristic_6_6_3)\n",
    "end = time.time()\n",
    "print(end - start)"
   ]
  },
  {
   "cell_type": "code",
   "execution_count": 52,
   "metadata": {},
   "outputs": [
    {
     "data": {
      "text/plain": [
       "37"
      ]
     },
     "execution_count": 52,
     "metadata": {},
     "output_type": "execute_result"
    }
   ],
   "source": [
    "len(p2)"
   ]
  },
  {
   "cell_type": "code",
   "execution_count": null,
   "metadata": {},
   "outputs": [],
   "source": []
  }
 ],
 "metadata": {
  "kernelspec": {
   "display_name": "Python [conda env:dr2018]",
   "language": "python",
   "name": "conda-env-dr2018-py"
  },
  "language_info": {
   "codemirror_mode": {
    "name": "ipython",
    "version": 3
   },
   "file_extension": ".py",
   "mimetype": "text/x-python",
   "name": "python",
   "nbconvert_exporter": "python",
   "pygments_lexer": "ipython3",
   "version": "3.6.4"
  }
 },
 "nbformat": 4,
 "nbformat_minor": 2
}
